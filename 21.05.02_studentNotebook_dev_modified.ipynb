{
 "cells": [
  {
   "cell_type": "markdown",
   "id": "79e5107d",
   "metadata": {},
   "source": [
    "# course  details"
   ]
  },
  {
   "cell_type": "code",
   "execution_count": 1,
   "id": "ec14571d",
   "metadata": {},
   "outputs": [
    {
     "name": "stdout",
     "output_type": "stream",
     "text": [
      "Global Variables Set\n"
     ]
    }
   ],
   "source": [
    "\n",
    "course = 4\n",
    "\n",
    "#online (1) or offline (0)\n",
    "connection = 0\n",
    "\n",
    "# for online connections you have the option to download all course data to the computer.\n",
    "# download(1) skip_download(0)\n",
    "download_csv = 0\n",
    "\n",
    "# Times should be in US/East local time\n",
    "class_start = '2021-04-20'\n",
    "class_end   = '2021-04-22'\n",
    "\n",
    "#input your student device name\n",
    "device_name = 'Guthrum'\n",
    "\n",
    "#status\n",
    "print('Global Variables Set')"
   ]
  },
  {
   "cell_type": "code",
   "execution_count": 2,
   "id": "mental-chosen",
   "metadata": {},
   "outputs": [
    {
     "name": "stdout",
     "output_type": "stream",
     "text": [
      "Requirement already satisfied: pandas in /srv/conda/envs/notebook/lib/python3.7/site-packages (1.2.4)\n",
      "Requirement already satisfied: numpy>=1.16.5 in /srv/conda/envs/notebook/lib/python3.7/site-packages (from pandas) (1.20.2)\n",
      "Requirement already satisfied: python-dateutil>=2.7.3 in /srv/conda/envs/notebook/lib/python3.7/site-packages (from pandas) (2.8.1)\n",
      "Requirement already satisfied: pytz>=2017.3 in /srv/conda/envs/notebook/lib/python3.7/site-packages (from pandas) (2021.1)\n",
      "Requirement already satisfied: six>=1.5 in /srv/conda/envs/notebook/lib/python3.7/site-packages (from python-dateutil>=2.7.3->pandas) (1.15.0)\n",
      "Requirement already satisfied: boto3 in /srv/conda/envs/notebook/lib/python3.7/site-packages (1.17.69)\n",
      "Requirement already satisfied: jmespath<1.0.0,>=0.7.1 in /srv/conda/envs/notebook/lib/python3.7/site-packages (from boto3) (0.10.0)\n",
      "Requirement already satisfied: botocore<1.21.0,>=1.20.69 in /srv/conda/envs/notebook/lib/python3.7/site-packages (from boto3) (1.20.69)\n",
      "Requirement already satisfied: s3transfer<0.5.0,>=0.4.0 in /srv/conda/envs/notebook/lib/python3.7/site-packages (from boto3) (0.4.2)\n",
      "Requirement already satisfied: python-dateutil<3.0.0,>=2.1 in /srv/conda/envs/notebook/lib/python3.7/site-packages (from botocore<1.21.0,>=1.20.69->boto3) (2.8.1)\n",
      "Requirement already satisfied: urllib3<1.27,>=1.25.4 in /srv/conda/envs/notebook/lib/python3.7/site-packages (from botocore<1.21.0,>=1.20.69->boto3) (1.26.3)\n",
      "Requirement already satisfied: six>=1.5 in /srv/conda/envs/notebook/lib/python3.7/site-packages (from python-dateutil<3.0.0,>=2.1->botocore<1.21.0,>=1.20.69->boto3) (1.15.0)\n",
      "Requirement already satisfied: geopandas in /srv/conda/envs/notebook/lib/python3.7/site-packages (0.9.0)\n",
      "Requirement already satisfied: pandas>=0.24.0 in /srv/conda/envs/notebook/lib/python3.7/site-packages (from geopandas) (1.2.4)\n",
      "Requirement already satisfied: shapely>=1.6 in /srv/conda/envs/notebook/lib/python3.7/site-packages (from geopandas) (1.7.1)\n",
      "Requirement already satisfied: pyproj>=2.2.0 in /srv/conda/envs/notebook/lib/python3.7/site-packages (from geopandas) (3.0.1)\n",
      "Requirement already satisfied: fiona>=1.8 in /srv/conda/envs/notebook/lib/python3.7/site-packages (from geopandas) (1.8.19)\n",
      "Requirement already satisfied: certifi in /srv/conda/envs/notebook/lib/python3.7/site-packages (from fiona>=1.8->geopandas) (2020.12.5)\n",
      "Requirement already satisfied: attrs>=17 in /srv/conda/envs/notebook/lib/python3.7/site-packages (from fiona>=1.8->geopandas) (20.3.0)\n",
      "Requirement already satisfied: click-plugins>=1.0 in /srv/conda/envs/notebook/lib/python3.7/site-packages (from fiona>=1.8->geopandas) (1.1.1)\n",
      "Requirement already satisfied: six>=1.7 in /srv/conda/envs/notebook/lib/python3.7/site-packages (from fiona>=1.8->geopandas) (1.15.0)\n",
      "Requirement already satisfied: click<8,>=4.0 in /srv/conda/envs/notebook/lib/python3.7/site-packages (from fiona>=1.8->geopandas) (7.1.2)\n",
      "Requirement already satisfied: munch in /srv/conda/envs/notebook/lib/python3.7/site-packages (from fiona>=1.8->geopandas) (2.5.0)\n",
      "Requirement already satisfied: cligj>=0.5 in /srv/conda/envs/notebook/lib/python3.7/site-packages (from fiona>=1.8->geopandas) (0.7.1)\n",
      "Requirement already satisfied: numpy>=1.16.5 in /srv/conda/envs/notebook/lib/python3.7/site-packages (from pandas>=0.24.0->geopandas) (1.20.2)\n",
      "Requirement already satisfied: python-dateutil>=2.7.3 in /srv/conda/envs/notebook/lib/python3.7/site-packages (from pandas>=0.24.0->geopandas) (2.8.1)\n",
      "Requirement already satisfied: pytz>=2017.3 in /srv/conda/envs/notebook/lib/python3.7/site-packages (from pandas>=0.24.0->geopandas) (2021.1)\n",
      "Requirement already satisfied: keplergl in /srv/conda/envs/notebook/lib/python3.7/site-packages (0.2.2)\n",
      "Requirement already satisfied: geopandas>=0.5.0 in /srv/conda/envs/notebook/lib/python3.7/site-packages (from keplergl) (0.9.0)\n",
      "Requirement already satisfied: ipywidgets<8,>=7.0.0 in /srv/conda/envs/notebook/lib/python3.7/site-packages (from keplergl) (7.6.3)\n",
      "Requirement already satisfied: traittypes>=0.2.1 in /srv/conda/envs/notebook/lib/python3.7/site-packages (from keplergl) (0.2.1)\n",
      "Requirement already satisfied: pandas>=0.23.0 in /srv/conda/envs/notebook/lib/python3.7/site-packages (from keplergl) (1.2.4)\n",
      "Requirement already satisfied: Shapely>=1.6.4.post2 in /srv/conda/envs/notebook/lib/python3.7/site-packages (from keplergl) (1.7.1)\n",
      "Requirement already satisfied: pyproj>=2.2.0 in /srv/conda/envs/notebook/lib/python3.7/site-packages (from geopandas>=0.5.0->keplergl) (3.0.1)\n",
      "Requirement already satisfied: fiona>=1.8 in /srv/conda/envs/notebook/lib/python3.7/site-packages (from geopandas>=0.5.0->keplergl) (1.8.19)\n",
      "Requirement already satisfied: attrs>=17 in /srv/conda/envs/notebook/lib/python3.7/site-packages (from fiona>=1.8->geopandas>=0.5.0->keplergl) (20.3.0)\n",
      "Requirement already satisfied: click-plugins>=1.0 in /srv/conda/envs/notebook/lib/python3.7/site-packages (from fiona>=1.8->geopandas>=0.5.0->keplergl) (1.1.1)\n",
      "Requirement already satisfied: click<8,>=4.0 in /srv/conda/envs/notebook/lib/python3.7/site-packages (from fiona>=1.8->geopandas>=0.5.0->keplergl) (7.1.2)\n",
      "Requirement already satisfied: six>=1.7 in /srv/conda/envs/notebook/lib/python3.7/site-packages (from fiona>=1.8->geopandas>=0.5.0->keplergl) (1.15.0)\n",
      "Requirement already satisfied: cligj>=0.5 in /srv/conda/envs/notebook/lib/python3.7/site-packages (from fiona>=1.8->geopandas>=0.5.0->keplergl) (0.7.1)\n",
      "Requirement already satisfied: munch in /srv/conda/envs/notebook/lib/python3.7/site-packages (from fiona>=1.8->geopandas>=0.5.0->keplergl) (2.5.0)\n",
      "Requirement already satisfied: certifi in /srv/conda/envs/notebook/lib/python3.7/site-packages (from fiona>=1.8->geopandas>=0.5.0->keplergl) (2020.12.5)\n",
      "Requirement already satisfied: jupyterlab-widgets>=1.0.0 in /srv/conda/envs/notebook/lib/python3.7/site-packages (from ipywidgets<8,>=7.0.0->keplergl) (1.0.0)\n",
      "Requirement already satisfied: ipykernel>=4.5.1 in /srv/conda/envs/notebook/lib/python3.7/site-packages (from ipywidgets<8,>=7.0.0->keplergl) (5.5.0)\n",
      "Requirement already satisfied: ipython>=4.0.0 in /srv/conda/envs/notebook/lib/python3.7/site-packages (from ipywidgets<8,>=7.0.0->keplergl) (7.20.0)\n",
      "Requirement already satisfied: widgetsnbextension~=3.5.0 in /srv/conda/envs/notebook/lib/python3.7/site-packages (from ipywidgets<8,>=7.0.0->keplergl) (3.5.1)\n",
      "Requirement already satisfied: traitlets>=4.3.1 in /srv/conda/envs/notebook/lib/python3.7/site-packages (from ipywidgets<8,>=7.0.0->keplergl) (5.0.5)\n",
      "Requirement already satisfied: nbformat>=4.2.0 in /srv/conda/envs/notebook/lib/python3.7/site-packages (from ipywidgets<8,>=7.0.0->keplergl) (5.1.2)\n",
      "Requirement already satisfied: jupyter-client in /srv/conda/envs/notebook/lib/python3.7/site-packages (from ipykernel>=4.5.1->ipywidgets<8,>=7.0.0->keplergl) (6.1.11)\n",
      "Requirement already satisfied: tornado>=4.2 in /srv/conda/envs/notebook/lib/python3.7/site-packages (from ipykernel>=4.5.1->ipywidgets<8,>=7.0.0->keplergl) (6.1)\n",
      "Requirement already satisfied: pexpect>4.3 in /srv/conda/envs/notebook/lib/python3.7/site-packages (from ipython>=4.0.0->ipywidgets<8,>=7.0.0->keplergl) (4.8.0)\n",
      "Requirement already satisfied: jedi>=0.16 in /srv/conda/envs/notebook/lib/python3.7/site-packages (from ipython>=4.0.0->ipywidgets<8,>=7.0.0->keplergl) (0.18.0)\n",
      "Requirement already satisfied: backcall in /srv/conda/envs/notebook/lib/python3.7/site-packages (from ipython>=4.0.0->ipywidgets<8,>=7.0.0->keplergl) (0.2.0)\n",
      "Requirement already satisfied: pickleshare in /srv/conda/envs/notebook/lib/python3.7/site-packages (from ipython>=4.0.0->ipywidgets<8,>=7.0.0->keplergl) (0.7.5)\n",
      "Requirement already satisfied: prompt-toolkit!=3.0.0,!=3.0.1,<3.1.0,>=2.0.0 in /srv/conda/envs/notebook/lib/python3.7/site-packages (from ipython>=4.0.0->ipywidgets<8,>=7.0.0->keplergl) (3.0.16)\n",
      "Requirement already satisfied: decorator in /srv/conda/envs/notebook/lib/python3.7/site-packages (from ipython>=4.0.0->ipywidgets<8,>=7.0.0->keplergl) (4.4.2)\n",
      "Requirement already satisfied: setuptools>=18.5 in /srv/conda/envs/notebook/lib/python3.7/site-packages (from ipython>=4.0.0->ipywidgets<8,>=7.0.0->keplergl) (49.6.0.post20210108)\n",
      "Requirement already satisfied: pygments in /srv/conda/envs/notebook/lib/python3.7/site-packages (from ipython>=4.0.0->ipywidgets<8,>=7.0.0->keplergl) (2.8.0)\n",
      "Requirement already satisfied: parso<0.9.0,>=0.8.0 in /srv/conda/envs/notebook/lib/python3.7/site-packages (from jedi>=0.16->ipython>=4.0.0->ipywidgets<8,>=7.0.0->keplergl) (0.8.1)\n",
      "Requirement already satisfied: jsonschema!=2.5.0,>=2.4 in /srv/conda/envs/notebook/lib/python3.7/site-packages (from nbformat>=4.2.0->ipywidgets<8,>=7.0.0->keplergl) (3.2.0)\n",
      "Requirement already satisfied: ipython-genutils in /srv/conda/envs/notebook/lib/python3.7/site-packages (from nbformat>=4.2.0->ipywidgets<8,>=7.0.0->keplergl) (0.2.0)\n",
      "Requirement already satisfied: jupyter-core in /srv/conda/envs/notebook/lib/python3.7/site-packages (from nbformat>=4.2.0->ipywidgets<8,>=7.0.0->keplergl) (4.7.1)\n",
      "Requirement already satisfied: pyrsistent>=0.14.0 in /srv/conda/envs/notebook/lib/python3.7/site-packages (from jsonschema!=2.5.0,>=2.4->nbformat>=4.2.0->ipywidgets<8,>=7.0.0->keplergl) (0.17.3)\n",
      "Requirement already satisfied: importlib-metadata in /srv/conda/envs/notebook/lib/python3.7/site-packages (from jsonschema!=2.5.0,>=2.4->nbformat>=4.2.0->ipywidgets<8,>=7.0.0->keplergl) (3.4.0)\n",
      "Requirement already satisfied: numpy>=1.16.5 in /srv/conda/envs/notebook/lib/python3.7/site-packages (from pandas>=0.23.0->keplergl) (1.20.2)\n",
      "Requirement already satisfied: python-dateutil>=2.7.3 in /srv/conda/envs/notebook/lib/python3.7/site-packages (from pandas>=0.23.0->keplergl) (2.8.1)\n",
      "Requirement already satisfied: pytz>=2017.3 in /srv/conda/envs/notebook/lib/python3.7/site-packages (from pandas>=0.23.0->keplergl) (2021.1)\n",
      "Requirement already satisfied: ptyprocess>=0.5 in /srv/conda/envs/notebook/lib/python3.7/site-packages (from pexpect>4.3->ipython>=4.0.0->ipywidgets<8,>=7.0.0->keplergl) (0.7.0)\n",
      "Requirement already satisfied: wcwidth in /srv/conda/envs/notebook/lib/python3.7/site-packages (from prompt-toolkit!=3.0.0,!=3.0.1,<3.1.0,>=2.0.0->ipython>=4.0.0->ipywidgets<8,>=7.0.0->keplergl) (0.2.5)\n",
      "Requirement already satisfied: notebook>=4.4.1 in /srv/conda/envs/notebook/lib/python3.7/site-packages (from widgetsnbextension~=3.5.0->ipywidgets<8,>=7.0.0->keplergl) (6.2.0)\n",
      "Requirement already satisfied: prometheus-client in /srv/conda/envs/notebook/lib/python3.7/site-packages (from notebook>=4.4.1->widgetsnbextension~=3.5.0->ipywidgets<8,>=7.0.0->keplergl) (0.9.0)\n",
      "Requirement already satisfied: nbconvert in /srv/conda/envs/notebook/lib/python3.7/site-packages (from notebook>=4.4.1->widgetsnbextension~=3.5.0->ipywidgets<8,>=7.0.0->keplergl) (6.0.7)\n",
      "Requirement already satisfied: argon2-cffi in /srv/conda/envs/notebook/lib/python3.7/site-packages (from notebook>=4.4.1->widgetsnbextension~=3.5.0->ipywidgets<8,>=7.0.0->keplergl) (20.1.0)\n",
      "Requirement already satisfied: terminado>=0.8.3 in /srv/conda/envs/notebook/lib/python3.7/site-packages (from notebook>=4.4.1->widgetsnbextension~=3.5.0->ipywidgets<8,>=7.0.0->keplergl) (0.9.2)\n",
      "Requirement already satisfied: jinja2 in /srv/conda/envs/notebook/lib/python3.7/site-packages (from notebook>=4.4.1->widgetsnbextension~=3.5.0->ipywidgets<8,>=7.0.0->keplergl) (2.11.3)\n",
      "Requirement already satisfied: pyzmq>=17 in /srv/conda/envs/notebook/lib/python3.7/site-packages (from notebook>=4.4.1->widgetsnbextension~=3.5.0->ipywidgets<8,>=7.0.0->keplergl) (22.0.3)\n",
      "Requirement already satisfied: Send2Trash>=1.5.0 in /srv/conda/envs/notebook/lib/python3.7/site-packages (from notebook>=4.4.1->widgetsnbextension~=3.5.0->ipywidgets<8,>=7.0.0->keplergl) (1.5.0)\n",
      "Requirement already satisfied: cffi>=1.0.0 in /srv/conda/envs/notebook/lib/python3.7/site-packages (from argon2-cffi->notebook>=4.4.1->widgetsnbextension~=3.5.0->ipywidgets<8,>=7.0.0->keplergl) (1.14.5)\n",
      "Requirement already satisfied: pycparser in /srv/conda/envs/notebook/lib/python3.7/site-packages (from cffi>=1.0.0->argon2-cffi->notebook>=4.4.1->widgetsnbextension~=3.5.0->ipywidgets<8,>=7.0.0->keplergl) (2.20)\n",
      "Requirement already satisfied: typing-extensions>=3.6.4 in /srv/conda/envs/notebook/lib/python3.7/site-packages (from importlib-metadata->jsonschema!=2.5.0,>=2.4->nbformat>=4.2.0->ipywidgets<8,>=7.0.0->keplergl) (3.7.4.3)\n",
      "Requirement already satisfied: zipp>=0.5 in /srv/conda/envs/notebook/lib/python3.7/site-packages (from importlib-metadata->jsonschema!=2.5.0,>=2.4->nbformat>=4.2.0->ipywidgets<8,>=7.0.0->keplergl) (3.4.0)\n",
      "Requirement already satisfied: MarkupSafe>=0.23 in /srv/conda/envs/notebook/lib/python3.7/site-packages (from jinja2->notebook>=4.4.1->widgetsnbextension~=3.5.0->ipywidgets<8,>=7.0.0->keplergl) (1.1.1)\n",
      "Requirement already satisfied: jupyterlab-pygments in /srv/conda/envs/notebook/lib/python3.7/site-packages (from nbconvert->notebook>=4.4.1->widgetsnbextension~=3.5.0->ipywidgets<8,>=7.0.0->keplergl) (0.1.2)\n",
      "Requirement already satisfied: entrypoints>=0.2.2 in /srv/conda/envs/notebook/lib/python3.7/site-packages (from nbconvert->notebook>=4.4.1->widgetsnbextension~=3.5.0->ipywidgets<8,>=7.0.0->keplergl) (0.3)\n",
      "Requirement already satisfied: pandocfilters>=1.4.1 in /srv/conda/envs/notebook/lib/python3.7/site-packages (from nbconvert->notebook>=4.4.1->widgetsnbextension~=3.5.0->ipywidgets<8,>=7.0.0->keplergl) (1.4.2)\n",
      "Requirement already satisfied: nbclient<0.6.0,>=0.5.0 in /srv/conda/envs/notebook/lib/python3.7/site-packages (from nbconvert->notebook>=4.4.1->widgetsnbextension~=3.5.0->ipywidgets<8,>=7.0.0->keplergl) (0.5.2)\n",
      "Requirement already satisfied: defusedxml in /srv/conda/envs/notebook/lib/python3.7/site-packages (from nbconvert->notebook>=4.4.1->widgetsnbextension~=3.5.0->ipywidgets<8,>=7.0.0->keplergl) (0.6.0)\n",
      "Requirement already satisfied: mistune<2,>=0.8.1 in /srv/conda/envs/notebook/lib/python3.7/site-packages (from nbconvert->notebook>=4.4.1->widgetsnbextension~=3.5.0->ipywidgets<8,>=7.0.0->keplergl) (0.8.4)\n",
      "Requirement already satisfied: bleach in /srv/conda/envs/notebook/lib/python3.7/site-packages (from nbconvert->notebook>=4.4.1->widgetsnbextension~=3.5.0->ipywidgets<8,>=7.0.0->keplergl) (3.3.0)\n",
      "Requirement already satisfied: testpath in /srv/conda/envs/notebook/lib/python3.7/site-packages (from nbconvert->notebook>=4.4.1->widgetsnbextension~=3.5.0->ipywidgets<8,>=7.0.0->keplergl) (0.4.4)\n",
      "Requirement already satisfied: async-generator in /srv/conda/envs/notebook/lib/python3.7/site-packages (from nbclient<0.6.0,>=0.5.0->nbconvert->notebook>=4.4.1->widgetsnbextension~=3.5.0->ipywidgets<8,>=7.0.0->keplergl) (1.10)\n",
      "Requirement already satisfied: nest-asyncio in /srv/conda/envs/notebook/lib/python3.7/site-packages (from nbclient<0.6.0,>=0.5.0->nbconvert->notebook>=4.4.1->widgetsnbextension~=3.5.0->ipywidgets<8,>=7.0.0->keplergl) (1.4.3)\n",
      "Requirement already satisfied: webencodings in /srv/conda/envs/notebook/lib/python3.7/site-packages (from bleach->nbconvert->notebook>=4.4.1->widgetsnbextension~=3.5.0->ipywidgets<8,>=7.0.0->keplergl) (0.5.1)\n",
      "Requirement already satisfied: packaging in /srv/conda/envs/notebook/lib/python3.7/site-packages (from bleach->nbconvert->notebook>=4.4.1->widgetsnbextension~=3.5.0->ipywidgets<8,>=7.0.0->keplergl) (20.9)\n",
      "Requirement already satisfied: pyparsing>=2.0.2 in /srv/conda/envs/notebook/lib/python3.7/site-packages (from packaging->bleach->nbconvert->notebook>=4.4.1->widgetsnbextension~=3.5.0->ipywidgets<8,>=7.0.0->keplergl) (2.4.7)\n",
      "Requirement already satisfied: networkx in /srv/conda/envs/notebook/lib/python3.7/site-packages (2.5.1)\n",
      "Requirement already satisfied: decorator<5,>=4.3 in /srv/conda/envs/notebook/lib/python3.7/site-packages (from networkx) (4.4.2)\n"
     ]
    }
   ],
   "source": [
    "%%bash\n",
    "pip install pandas\n",
    "pip install boto3\n",
    "pip install geopandas\n",
    "pip install keplergl\n",
    "pip install networkx"
   ]
  },
  {
   "cell_type": "markdown",
   "id": "8c1db16f",
   "metadata": {},
   "source": [
    "# configuration setup for the notebook libraries and Methods"
   ]
  },
  {
   "cell_type": "code",
   "execution_count": 3,
   "id": "hundred-insured",
   "metadata": {},
   "outputs": [
    {
     "name": "stdout",
     "output_type": "stream",
     "text": [
      "Requirement already satisfied: scipy in /srv/conda/envs/notebook/lib/python3.7/site-packages (1.6.3)\n",
      "Requirement already satisfied: numpy<1.23.0,>=1.16.5 in /srv/conda/envs/notebook/lib/python3.7/site-packages (from scipy) (1.20.2)\n",
      "Requirement already satisfied: matplotlib in /srv/conda/envs/notebook/lib/python3.7/site-packages (3.4.2)\n",
      "Requirement already satisfied: cycler>=0.10 in /srv/conda/envs/notebook/lib/python3.7/site-packages (from matplotlib) (0.10.0)\n",
      "Requirement already satisfied: python-dateutil>=2.7 in /srv/conda/envs/notebook/lib/python3.7/site-packages (from matplotlib) (2.8.1)\n",
      "Requirement already satisfied: pyparsing>=2.2.1 in /srv/conda/envs/notebook/lib/python3.7/site-packages (from matplotlib) (2.4.7)\n",
      "Requirement already satisfied: kiwisolver>=1.0.1 in /srv/conda/envs/notebook/lib/python3.7/site-packages (from matplotlib) (1.3.1)\n",
      "Requirement already satisfied: numpy>=1.16 in /srv/conda/envs/notebook/lib/python3.7/site-packages (from matplotlib) (1.20.2)\n",
      "Requirement already satisfied: pillow>=6.2.0 in /srv/conda/envs/notebook/lib/python3.7/site-packages (from matplotlib) (8.2.0)\n",
      "Requirement already satisfied: six in /srv/conda/envs/notebook/lib/python3.7/site-packages (from cycler>=0.10->matplotlib) (1.15.0)\n",
      "Requirement already satisfied: h3 in /srv/conda/envs/notebook/lib/python3.7/site-packages (3.7.2)\n"
     ]
    }
   ],
   "source": [
    "%%bash\n",
    "pip install scipy\n",
    "pip install matplotlib\n",
    "pip install h3"
   ]
  },
  {
   "cell_type": "code",
   "execution_count": 4,
   "id": "a6da75d0",
   "metadata": {},
   "outputs": [
    {
     "name": "stdout",
     "output_type": "stream",
     "text": [
      "Module Import Completed\n",
      "Config Successful\n"
     ]
    }
   ],
   "source": [
    "#import libraries, functions, methods, configurations\n",
    "%run studentConfig.py\n",
    "\n",
    "#status\n",
    "print('Config Successful')"
   ]
  },
  {
   "cell_type": "code",
   "execution_count": 5,
   "id": "cb6b36c0",
   "metadata": {},
   "outputs": [
    {
     "name": "stdout",
     "output_type": "stream",
     "text": [
      "offline notebook use. Reading data from local .csv file....\n",
      "<class 'pandas.core.frame.DataFrame'>\n",
      "RangeIndex: 200085 entries, 0 to 200084\n",
      "Data columns (total 42 columns):\n",
      " #   Column              Non-Null Count   Dtype  \n",
      "---  ------              --------------   -----  \n",
      " 0   id                  200085 non-null  int64  \n",
      " 1   dtg                 200085 non-null  object \n",
      " 2   name                200085 non-null  object \n",
      " 3   uuid                200085 non-null  object \n",
      " 4   source              200085 non-null  object \n",
      " 5   lat                 200085 non-null  float64\n",
      " 6   lon                 200085 non-null  float64\n",
      " 7   unix_timestamp      200085 non-null  int64  \n",
      " 8   utc_ts              200085 non-null  object \n",
      " 9   localized_ts        200085 non-null  object \n",
      " 10  tzID                200085 non-null  object \n",
      " 11  platform_country    0 non-null       float64\n",
      " 12  platform_bandwidth  0 non-null       float64\n",
      " 13  accuracy            200085 non-null  float64\n",
      " 14  gps_speed           200085 non-null  float64\n",
      " 15  ipv_4               0 non-null       float64\n",
      " 16  carrier             0 non-null       float64\n",
      " 17  user_agent          0 non-null       float64\n",
      " 18  make                0 non-null       float64\n",
      " 19  model               0 non-null       float64\n",
      " 20  device              0 non-null       float64\n",
      " 21  platform_os         0 non-null       float64\n",
      " 22  app_id              0 non-null       float64\n",
      " 23  publisher_id        0 non-null       float64\n",
      " 24  place_id            0 non-null       float64\n",
      " 25  place_name          0 non-null       float64\n",
      " 26  category            0 non-null       float64\n",
      " 27  gps_src             0 non-null       float64\n",
      " 28  app                 0 non-null       float64\n",
      " 29  datasrc_id          0 non-null       float64\n",
      " 30  publisher           0 non-null       float64\n",
      " 31  keywords            0 non-null       float64\n",
      " 32  altitude            200085 non-null  float64\n",
      " 33  speed               200085 non-null  float64\n",
      " 34  latLon_string       21863 non-null   object \n",
      " 35  valid               21863 non-null   object \n",
      " 36  type                178222 non-null  object \n",
      " 37  ssid                45061 non-null   object \n",
      " 38  mac                 178222 non-null  object \n",
      " 39  rssi                178222 non-null  float64\n",
      " 40  channel             178222 non-null  float64\n",
      " 41  authMode            178134 non-null  object \n",
      "dtypes: float64(27), int64(2), object(13)\n",
      "memory usage: 64.1+ MB\n"
     ]
    }
   ],
   "source": [
    "print(\"offline notebook use. Reading data from local .csv file....\")\n",
    "filePath = \"appIOTcourse_4_allStudent_data.csv.csv\"\n",
    "\n",
    "all_classData = pd.read_csv(f\"{filePath}\", low_memory=False)\n",
    "\n",
    "#inspect the schema\n",
    "all_classData.info()"
   ]
  },
  {
   "cell_type": "markdown",
   "id": "70ab4dc4",
   "metadata": {},
   "source": [
    "# read your data into a pandas dataframe"
   ]
  },
  {
   "cell_type": "markdown",
   "id": "241bee43",
   "metadata": {},
   "source": [
    "## format for time"
   ]
  },
  {
   "cell_type": "code",
   "execution_count": null,
   "id": "128fb9f1",
   "metadata": {},
   "outputs": [],
   "source": [
    "#format date columns\n",
    "all_classData['utc_ts'] = all_classData['utc_ts'].astype(str)\n",
    "all_classData['utc_ts'] =  pd.to_datetime(all_classData['utc_ts'].str.strip(), errors='coerce', utc = True)\n",
    "#add time zone id\n",
    "all_classData['tzID'] = 'US/Eastern'\n",
    "all_classData['localized_ts'] = all_classData['utc_ts'].dt.tz_convert('US/Eastern')\n",
    "all_classData['dtg'] = all_classData['localized_ts'].dt.date\n",
    "all_classData['dtg'] = pd.to_datetime(all_classData['dtg'])\n",
    "all_classData.info()"
   ]
  },
  {
   "cell_type": "code",
   "execution_count": 6,
   "id": "8f0ce36e",
   "metadata": {},
   "outputs": [
    {
     "name": "stdout",
     "output_type": "stream",
     "text": [
      "User Guide: https://docs.kepler.gl/docs/keplergl-jupyter\n",
      "Map saved to first_map.html!\n"
     ]
    }
   ],
   "source": [
    "# format dataframe for plotting\n",
    "plotAll = all_classData.copy(deep=True)\n",
    "\n",
    "# plot the data\n",
    "map_1 = KeplerGl(height=525)\n",
    "map_1.add_data(data=plotAll, name='all_data')\n",
    "map_1.config = config1\n",
    "map_1.save_to_html(data={\"plotAll\": df}, config=config1, file_name='second_map.html')\n",
    "#map_1.save_to_html(file_name='first_map.html')\n",
    "#html_string = map_1._repr_html_()"
   ]
  },
  {
   "cell_type": "code",
   "execution_count": 9,
   "id": "reserved-hello",
   "metadata": {},
   "outputs": [
    {
     "data": {
      "text/html": [
       "\n",
       "        <iframe\n",
       "            width=\"700\"\n",
       "            height=\"600\"\n",
       "            src=\"./first_map.html\"\n",
       "            frameborder=\"0\"\n",
       "            allowfullscreen\n",
       "        ></iframe>\n",
       "        "
      ],
      "text/plain": [
       "<IPython.lib.display.IFrame at 0x7fef123bf390>"
      ]
     },
     "execution_count": 9,
     "metadata": {},
     "output_type": "execute_result"
    }
   ],
   "source": [
    "from IPython.core.display import display, HTML\n",
    "from IPython.display import IFrame\n",
    "\n",
    "#h = f\"<iframe srcdoc='{html_string}' width=700 height=600 ></iframe>\"\n",
    "#display(HTML(h))\n",
    "\n",
    "\n",
    "IFrame(src='./first_map.html', width=700, height=600)"
   ]
  },
  {
   "cell_type": "markdown",
   "id": "7c3dc1b7",
   "metadata": {},
   "source": [
    "# inspect your dataframe with Kepler.go"
   ]
  },
  {
   "cell_type": "markdown",
   "id": "4d58f6ee",
   "metadata": {},
   "source": [
    "# Query for your device mobile ID by the device's name"
   ]
  },
  {
   "cell_type": "code",
   "execution_count": null,
   "id": "d8820370",
   "metadata": {},
   "outputs": [],
   "source": [
    "# lookup the mid based upon the name of the student's device\n",
    "#check if online or offline mode\n",
    "if connection == 1:\n",
    "    #online\n",
    "    mid = get_mid(device_name,course)\n",
    "    print(\"Student mid (online):\")\n",
    "    print(mid)\n",
    "elif connection == 0:\n",
    "    #offline\n",
    "    mask = offline_lookup['name'] == device_name\n",
    "    row = offline_lookup.loc[mask]\n",
    "    mid = row.iloc[0]['udid']\n",
    "    print(\"Student mid (offline):\")\n",
    "    print(mid)\n",
    "else:\n",
    "    #user entry error\n",
    "    print(\"connection selection is invalid\")"
   ]
  },
  {
   "cell_type": "markdown",
   "id": "f34ff29c",
   "metadata": {},
   "source": [
    "# Query for your data by the mobile ID (UUID)"
   ]
  },
  {
   "cell_type": "code",
   "execution_count": null,
   "id": "9ed64041",
   "metadata": {},
   "outputs": [],
   "source": [
    "#display student device data by the mid associated with the device global varible\n",
    "# The results should be the same as the previous command\n",
    "mask = all_classData['uuid'] == mid\n",
    "yourData = all_classData.loc[mask]\n",
    "\n",
    "print(f\"Your devices mid is: {mid}\")\n",
    "yourData.head(3)"
   ]
  },
  {
   "cell_type": "markdown",
   "id": "ff48e378",
   "metadata": {},
   "source": [
    "# Let's look at the IoT details captured for you device"
   ]
  },
  {
   "cell_type": "code",
   "execution_count": null,
   "id": "839598e6",
   "metadata": {},
   "outputs": [],
   "source": [
    "#display student device IoT by the device_name global varible\n",
    "mask = yourData['source'] == 'iot'\n",
    "yourIOT = yourData.loc[mask]\n",
    "yourIOT = yourIOT.reset_index()\n",
    "print(f\"IOT Collections on device: {device_name}\") \n",
    "yourIOT.head(3)"
   ]
  },
  {
   "cell_type": "markdown",
   "id": "155e1b42",
   "metadata": {},
   "source": [
    "# Let's Look at the APP data"
   ]
  },
  {
   "cell_type": "code",
   "execution_count": null,
   "id": "18fe36a4",
   "metadata": {},
   "outputs": [],
   "source": [
    "#display student device IoT by the device_name global varible\n",
    "mask = yourData['source'] == 'app'\n",
    "yourAPP = yourData.loc[mask]\n",
    "yourAPP = yourAPP.reset_index()\n",
    "yourAPP = yourAPP.iloc[:,0:13]\n",
    "print(f\"First party APP collections on device: {device_name}\") \n",
    "yourAPP.head(3)"
   ]
  },
  {
   "cell_type": "markdown",
   "id": "c313e2d2",
   "metadata": {},
   "source": [
    "## Plot your app data"
   ]
  },
  {
   "cell_type": "code",
   "execution_count": null,
   "id": "5c0e509c",
   "metadata": {},
   "outputs": [],
   "source": [
    "# plot the data\n",
    "map_2 = KeplerGl(height=525)\n",
    "map_2.add_data(data=yourAPP, name='yourApp_data')\n",
    "map_2.config = config_yourData\n",
    "map_2"
   ]
  },
  {
   "cell_type": "markdown",
   "id": "d0f554b6",
   "metadata": {},
   "source": [
    "# filter your data by velocity"
   ]
  },
  {
   "cell_type": "code",
   "execution_count": null,
   "id": "116edabd",
   "metadata": {},
   "outputs": [],
   "source": [
    "# get dataframe to work on\n",
    "df = yourAPP.copy(deep=True)\n",
    "\n",
    "#add a unique ID to dataframe for testing or joining with other dataframes\n",
    "df.insert(0, 'num', range(0, 0 + len(df)))\n",
    "\n",
    "#work with time to get the tdoa value in sec and convert it to hours\n",
    "df['time_delta'] = df.sort_values(['name','utc_ts']).groupby('name')['utc_ts'].diff()\n",
    "df['time_delta_seconds'] = (df['time_delta'].dt.total_seconds())\n",
    "df['time_delta_seconds'] = df['time_delta_seconds'].fillna(0)\n",
    "df['time_delta_hours'] = df['time_delta_seconds'] / 3600\n",
    "# make the first point (start point of the journey) 0 since it will be a nan\n",
    "df['time_delta_hours'] = df['time_delta_hours'].fillna(0)\n",
    "#clean up NaT because kepler does not like NaT when you plot\n",
    "df.drop('time_delta', axis=1, inplace=True)\n",
    "\n",
    "# vectorized haversine function\n",
    "def haversine(lat1, lon1, lat2, lon2, to_radians=True, earth_radius=6371):\n",
    "    \"\"\"\n",
    "    Calculate the great circle distance between two points\n",
    "    on the earth (specified in decimal degrees or in radians)\n",
    "\n",
    "    All (lat, lon) coordinates must have numeric dtypes (float)\n",
    "\n",
    "    \"\"\"\n",
    "    if to_radians:\n",
    "        lat1, lon1, lat2, lon2 = np.radians([lat1, lon1, lat2, lon2])\n",
    "\n",
    "    a = np.sin((lat2-lat1)/2.0)**2 + \\\n",
    "        np.cos(lat1) * np.cos(lat2) * np.sin((lon2-lon1)/2.0)**2\n",
    "\n",
    "    return earth_radius * 2 * np.arcsin(np.sqrt(a))\n",
    "\n",
    "#shift df and add a coloumn for the original value of lat and lon\n",
    "df['orig_lat'] = df.groupby(['name'])['lat'].transform(lambda x:x.shift())\n",
    "df['orig_lon'] = df.groupby(['name'])['lon'].transform(lambda x:x.shift())\n",
    "df['dist_km'] = haversine(df['lat'], df['lon'], df['orig_lat'], df['orig_lon'])\n",
    "# make the first point (start point of the journey) 0 since it will be a NAT\n",
    "df['dist_km'] = df['dist_km'].fillna(0)\n",
    "df['dist_miles']=df['dist_km']/1.609\n",
    "#obtain the velocity\n",
    "df['velocity_kmph'] = (df['dist_km'] / df['time_delta_hours']).fillna(0)\n",
    "df['velocity_mph'] = (df['dist_miles'] / df['time_delta_hours']).fillna(0)\n",
    "#clean temp columns for lat / lon orininals\n",
    "#df.drop('orig_lat', axis=1, inplace=True)\n",
    "#df.drop('orig_lon', axis=1, inplace=True)\n",
    "\n",
    "filter = df[(df.velocity_mph <11)]                             #<------------------------Velocity limit goes here (11)\n",
    "map_1 = KeplerGl(height=525)\n",
    "map_1.add_data(data=filter, name='all_data')\n",
    "map_1.config = config1\n",
    "map_1"
   ]
  },
  {
   "cell_type": "code",
   "execution_count": null,
   "id": "cbcbbb76",
   "metadata": {},
   "outputs": [],
   "source": [
    "#filter out your velocity over a certain velocity range\n",
    "filter = df[(df.velocity_mph >35) & (df.velocity_mph <65)]\n",
    "\n",
    "# plot the data\n",
    "map_2 = KeplerGl(height=525)\n",
    "map_2.add_data(data=filter, name='filter_mph')\n",
    "map_2.config = config_yourData\n",
    "map_2"
   ]
  },
  {
   "cell_type": "markdown",
   "id": "9002bcaf",
   "metadata": {},
   "source": [
    "# Inspect your data by source type"
   ]
  },
  {
   "cell_type": "code",
   "execution_count": null,
   "id": "f45856c6",
   "metadata": {},
   "outputs": [],
   "source": [
    "# plot the data\n",
    "map_2 = KeplerGl(height=525)\n",
    "map_2.add_data(data=yourAPP, name='app_data')\n",
    "map_2.add_data(data=yourIOT, name='IOT_data')\n",
    "map_2.config = config_yourData\n",
    "map_2"
   ]
  },
  {
   "cell_type": "markdown",
   "id": "a2369693",
   "metadata": {},
   "source": [
    "# Section 2 | Data Reduction and Visualization Based on DataTime"
   ]
  },
  {
   "cell_type": "code",
   "execution_count": null,
   "id": "8be0d760",
   "metadata": {},
   "outputs": [],
   "source": [
    "#Set DateTime Range to Align with Exercise or Short Time Window of Interest\n",
    "time1 = '2021-04-20 08:05:49+00:00'\n",
    "time2 = '2021-04-20 08:06:51+00:00'\n",
    "\n",
    "#Get Dataframoe to work on and set ts column to utc time\n",
    "plotWindow = yourData.copy(deep=True)\n",
    "\n",
    "#Filter the DateTime Range\n",
    "mask = (plotWindow['localized_ts'] > time1) & (plotWindow['localized_ts'] < time2) \n",
    "#Run query\n",
    "filtered_data = plotWindow.loc[mask]\n",
    "filtered_data.head(10)"
   ]
  },
  {
   "cell_type": "code",
   "execution_count": null,
   "id": "f803fbf6",
   "metadata": {},
   "outputs": [],
   "source": [
    "# plot the data\n",
    "map_2 = KeplerGl(height=525)\n",
    "map_2.add_data(data=filtered_data, name='time_filtered_data')\n",
    "map_2.config = config2\n",
    "map_2"
   ]
  },
  {
   "cell_type": "markdown",
   "id": "d97f3f11",
   "metadata": {},
   "source": [
    "# Section 3 | Multi-Device Dataset Import, and Visualize"
   ]
  },
  {
   "cell_type": "code",
   "execution_count": null,
   "id": "a08e8694",
   "metadata": {},
   "outputs": [],
   "source": [
    "#Get Dataframoe to work on and obtain all the student name and the number of events observed by each one\n",
    "allData = all_classData.copy(deep=True)\n",
    "allData = allData.groupby(['name','uuid']).size().reset_index().rename(columns={0:'count'})\n",
    "#display the results\n",
    "allData"
   ]
  },
  {
   "cell_type": "code",
   "execution_count": null,
   "id": "9e8aa112",
   "metadata": {},
   "outputs": [],
   "source": [
    "udid1 = 'bea8836d-3008-44a3-8c3c-53555f0a2dee'\n",
    "udid2 = '32bdb1af-fd87-4096-a683-63cd16a264d6'\n",
    "\n",
    "#make a local copy of the date to use for plotting\n",
    "allData1 = all_classData.copy(deep=True)\n",
    "\n",
    "#select the udid's we want to look at\n",
    "allData1 = allData1[allData1['uuid'].isin([udid1,udid2])]\n",
    "allData1['name'].unique()"
   ]
  },
  {
   "cell_type": "code",
   "execution_count": null,
   "id": "d8158161",
   "metadata": {},
   "outputs": [],
   "source": [
    "# plot the data\n",
    "map_3 = KeplerGl(height=525)\n",
    "map_3.add_data(data=allData1, name='two_devices')\n",
    "map_3.config = config3\n",
    "map_3"
   ]
  },
  {
   "cell_type": "markdown",
   "id": "4ed98d8a",
   "metadata": {},
   "source": [
    "# Section 4 | Uber H3 HexBins - Associated Locations by Visit Geo [Where Who Where]"
   ]
  },
  {
   "cell_type": "markdown",
   "id": "eb0fd166",
   "metadata": {},
   "source": [
    "#### Geospatial indexing is essential for aggregating and querying data at scale. This type of data is generally abundant, difficult to index or search, and can be structurally complex. Polygons that discriminate particular areas can be very complex to handle. Think of a city’s boundaries. How many points do you need to efficiently determine if a given vehicle has entered a town or even a gas station? The more points you need, the more calculations you will require from your CPU. Overburdening your hardware translates to slower response times and higher resource usage.\n",
    "#### An efficient geospatial indexing system helps you overcome these hurdles. In the case of H3, the solution takes the form of a hashing scheme."
   ]
  },
  {
   "cell_type": "markdown",
   "id": "5b7f898e",
   "metadata": {},
   "source": [
    "#### The H3 algorithm partitions the Earth’s surface into a network of hexagons. You can select the amount of detail each hexagon contains by choosing among the available sixteen levels."
   ]
  },
  {
   "cell_type": "code",
   "execution_count": null,
   "id": "e8c35f1e",
   "metadata": {},
   "outputs": [],
   "source": [
    "# display the resolution available for h3 indexing with hexagons\n",
    "hexagon_table = h3_indexTable()\n",
    "hexagon_table"
   ]
  },
  {
   "cell_type": "markdown",
   "id": "99880966",
   "metadata": {},
   "source": [
    "### To put these areas into context see the below descriptions:\n",
    "#### *Resolution 7: Roughly city-sized\n",
    "#### *Resolution 8: Roughly neighborhood-sized\n",
    "#### *Resolution 9: Roughly 2-4 city blocks in size (different cities have different block sizes)\n",
    "#### *Resolution 10: Less than a city block in size\n",
    "#### *Resolution 15: Coffee table-sized"
   ]
  },
  {
   "cell_type": "markdown",
   "id": "a65ea5fa",
   "metadata": {},
   "source": [
    "### Now let's perform a fast co-location approach based upon more than one device in a H3 hexagon at res = 9"
   ]
  },
  {
   "cell_type": "code",
   "execution_count": null,
   "id": "69db033e",
   "metadata": {},
   "outputs": [],
   "source": [
    "# Keep the resolution at 9; the higher the number, the more granular the hexbins become\n",
    "resolution = 9\n",
    "#this would meen any device that colocalates with any other device in a hexagon more than one time ( > 1 = 2 devices) \n",
    "colo_criteria = 1 \n",
    "\n",
    "#perform the colocation analysis by h3 index binning\n",
    "hex_colo = colocate_byH3(all_classData,resolution,colo_criteria)\n",
    "\n",
    "#Display Partial Data Set  \n",
    "hex_colo.loc[0:1,:]"
   ]
  },
  {
   "cell_type": "code",
   "execution_count": null,
   "id": "66fedfee",
   "metadata": {},
   "outputs": [],
   "source": [
    "# plot the data\n",
    "hexagons = pd.DataFrame(hex_colo.hexID)\n",
    "colo_devices = pd.DataFrame(hex_colo[['hexID','uuid','lat','lon','num_unique','activity_dates_of_UUIDs']])\n",
    "\n",
    "map_4 = KeplerGl(height=525)\n",
    "map_4.add_data(data=colo_devices, name='colo_devices')\n",
    "map_4.add_data(data=hexagons, name='hex_res9')\n",
    "map_4"
   ]
  },
  {
   "cell_type": "markdown",
   "id": "28851c37",
   "metadata": {},
   "source": [
    "# Section 5 | Graphical Visualizatin Comparing UUIDs and SSIDs [Technological Proximity]"
   ]
  },
  {
   "cell_type": "code",
   "execution_count": null,
   "id": "1fc3921a",
   "metadata": {},
   "outputs": [],
   "source": [
    "Need a graph example for people being connected together in time and space"
   ]
  }
 ],
 "metadata": {
  "kernelspec": {
   "display_name": "Python 3",
   "language": "python",
   "name": "python3"
  },
  "language_info": {
   "codemirror_mode": {
    "name": "ipython",
    "version": 3
   },
   "file_extension": ".py",
   "mimetype": "text/x-python",
   "name": "python",
   "nbconvert_exporter": "python",
   "pygments_lexer": "ipython3",
   "version": "3.7.10"
  }
 },
 "nbformat": 4,
 "nbformat_minor": 5
}
